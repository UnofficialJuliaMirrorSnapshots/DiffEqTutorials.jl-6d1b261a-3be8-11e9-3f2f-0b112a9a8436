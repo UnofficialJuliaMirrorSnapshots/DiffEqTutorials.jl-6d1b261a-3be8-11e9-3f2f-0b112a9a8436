{
  "cells": [
    {
      "cell_type": "markdown",
      "source": [
        "# DifferentialEquations.jl Workshop Exercise Solutions\n### Chris Rackauckas\n\n# Problem 1: Investigating Sources of Randomness and Uncertainty in a Biological System\n\n## Part 1: Simulating the Oregonator ODE model"
      ],
      "metadata": {}
    },
    {
      "outputs": [],
      "cell_type": "code",
      "source": [
        "using DifferentialEquations, Plots\nfunction orego(du,u,p,t)\n  s,q,w = p\n  y1,y2,y3 = u\n  du[1] = s*(y2+y1*(1-q*y1-y2))\n  du[2] = (y3-(1+y1)*y2)/s\n  du[3] = w*(y1-y3)\nend\np = [77.27,8.375e-6,0.161]\nprob = ODEProblem(orego,[1.0,2.0,3.0],(0.0,360.0),p)\nsol = solve(prob)\nplot(sol)"
      ],
      "metadata": {},
      "execution_count": null
    },
    {
      "outputs": [],
      "cell_type": "code",
      "source": [
        "plot(sol,vars=(1,2,3))"
      ],
      "metadata": {},
      "execution_count": null
    },
    {
      "cell_type": "markdown",
      "source": [
        "## Part 2: Investigating Stiffness"
      ],
      "metadata": {}
    },
    {
      "outputs": [],
      "cell_type": "code",
      "source": [
        "using BenchmarkTools\nprob = ODEProblem(orego,[1.0,2.0,3.0],(0.0,50.0),p)\n@btime sol = solve(prob,Tsit5())"
      ],
      "metadata": {},
      "execution_count": null
    },
    {
      "outputs": [],
      "cell_type": "code",
      "source": [
        "@btime sol = solve(prob,Rodas5())"
      ],
      "metadata": {},
      "execution_count": null
    },
    {
      "cell_type": "markdown",
      "source": [
        "## (Optional) Part 3: Specifying Analytical Jacobians (I)\n\n## (Optional) Part 4: Automatic Symbolicification and Analytical Jacobian Calculations\n\n## Part 5: Adding stochasticity with stochastic differential equations"
      ],
      "metadata": {}
    },
    {
      "outputs": [],
      "cell_type": "code",
      "source": [
        "function orego(du,u,p,t)\n  s,q,w = p\n  y1,y2,y3 = u\n  du[1] = s*(y2+y1*(1-q*y1-y2))\n  du[2] = (y3-(1+y1)*y2)/s\n  du[3] = w*(y1-y3)\nend\nfunction g(du,u,p,t)\n  du[1] = 0.1u[1]\n  du[2] = 0.1u[2]\n  du[3] = 0.1u[3]\nend\np = [77.27,8.375e-6,0.161]\nprob = SDEProblem(orego,g,[1.0,2.0,3.0],(0.0,30.0),p)\nsol = solve(prob,SOSRI())\nplot(sol)"
      ],
      "metadata": {},
      "execution_count": null
    },
    {
      "outputs": [],
      "cell_type": "code",
      "source": [
        "sol = solve(prob,ImplicitRKMil()); plot(sol)"
      ],
      "metadata": {},
      "execution_count": null
    },
    {
      "outputs": [],
      "cell_type": "code",
      "source": [
        "sol = solve(prob,ImplicitRKMil()); plot(sol)"
      ],
      "metadata": {},
      "execution_count": null
    },
    {
      "cell_type": "markdown",
      "source": [
        "## Part 6: Gillespie jump models of discrete stochasticity\n\n## Part 7: Probabilistic Programming / Bayesian Parameter Estimation with DiffEqBayes.jl + Turing.jl (I)\n\nThe data was generated with:"
      ],
      "metadata": {}
    },
    {
      "outputs": [],
      "cell_type": "code",
      "source": [
        "function orego(du,u,p,t)\n  s,q,w = p\n  y1,y2,y3 = u\n  du[1] = s*(y2+y1*(1-q*y1-y2))\n  du[2] = (y3-(1+y1)*y2)/s\n  du[3] = w*(y1-y3)\nend\np = [60.0,1e-5,0.2]\nprob = ODEProblem(orego,[1.0,2.0,3.0],(0.0,30.0),p)\nsol = solve(prob,Rodas5(),abstol=1/10^14,reltol=1/10^14)"
      ],
      "metadata": {},
      "execution_count": null
    },
    {
      "cell_type": "markdown",
      "source": [
        "## (Optional) Part 8: Using DiffEqBiological's Reaction Network DSL\n\n# Problem 2: Fitting Hybrid Delay Pharmacokinetic Models with Automated Responses (B)\n\n## Part 1: Defining an ODE with Predetermined Doses"
      ],
      "metadata": {}
    },
    {
      "outputs": [],
      "cell_type": "code",
      "source": [
        "function onecompartment(du,u,p,t)\n  Ka,Ke = p\n  du[1] = -Ka*u[1]\n  du[2] =  Ka*u[1] - Ke*u[2]\nend\np = (Ka=2.268,Ke=0.07398)\nprob = ODEProblem(onecompartment,[100.0,0.0],(0.0,90.0),p)\n\ntstops = [24,48,72]\ncondition(u,t,integrator) = t ∈ tstops\naffect!(integrator) = (integrator.u[1] += 100)\ncb = DiscreteCallback(condition,affect!)\nsol = solve(prob,Tsit5(),callback=cb,tstops=tstops)\nplot(sol)"
      ],
      "metadata": {},
      "execution_count": null
    },
    {
      "cell_type": "markdown",
      "source": [
        "## Part 2: Adding Delays"
      ],
      "metadata": {}
    },
    {
      "outputs": [],
      "cell_type": "code",
      "source": [
        "function onecompartment_delay(du,u,h,p,t)\n  Ka,Ke,τ = p\n  delayed_depot = h(p,t-τ)[1]\n  du[1] = -Ka*u[1]\n  du[2] =  Ka*delayed_depot - Ke*u[2]\nend\np = (Ka=2.268,Ke=0.07398,τ=6.0)\nh(p,t) = [0.0,0.0]\nprob = DDEProblem(onecompartment_delay,[100.0,0.0],h,(0.0,90.0),p)\n\ntstops = [24,48,72]\ncondition(u,t,integrator) = t ∈ tstops\naffect!(integrator) = (integrator.u[1] += 100)\ncb = DiscreteCallback(condition,affect!)\nsol = solve(prob,MethodOfSteps(Rosenbrock23()),callback=cb,tstops=tstops)\nplot(sol)"
      ],
      "metadata": {},
      "execution_count": null
    },
    {
      "cell_type": "markdown",
      "source": [
        "## Part 3: Automatic Differentiation (AD) for Optimization (I)\n\n## Part 4: Fitting Known Quantities with DiffEqParamEstim.jl + Optim.jl\n\nThe data was generated with"
      ],
      "metadata": {}
    },
    {
      "outputs": [],
      "cell_type": "code",
      "source": [
        "p = (Ka = 0.5, Ke = 0.1, τ = 4.0)"
      ],
      "metadata": {},
      "execution_count": null
    },
    {
      "cell_type": "markdown",
      "source": [
        "## Part 5: Implementing Control-Based Logic with ContinuousCallbacks (I)\n\n## Part 6: Global Sensitivity Analysis with the Morris and Sobol Methods\n\n# Problem 3: Differential-Algebraic Equation Modeling of a Double Pendulum (B)\n\n## Part 1: Simple Introduction to DAEs: Mass-Matrix Robertson Equations\n\n## Part 2: Solving the Implicit Robertson Equations with IDA\n\n## Part 3: Manual Index Reduction of the Single Pendulum\n\n## Part 4: Single Pendulum Solution with IDA\n\n## Part 5: Solving the Double Penulum DAE System\n\n# Problem 4: Performance Optimizing and Parallelizing Semilinear PDE Solvers (I)\n\n## Part 1: Implementing the BRUSS PDE System as ODEs\n\n## Part 2: Optimizing the BRUSS Code\n\n## Part 3: Exploiting Jacobian Sparsity with Color Differentiation\n\n## (Optional) Part 4: Structured Jacobians\n\n## (Optional) Part 5: Automatic Symbolicification and Analytical Jacobian\n\n## Part 6: Utilizing Preconditioned-GMRES Linear Solvers\n\n## Part 7: Exploring IMEX and Exponential Integrator Techniques (E)\n\n## Part 8: Work-Precision Diagrams for Benchmarking Solver Choices\n\n## Part 9: GPU-Parallelism for PDEs (E)\n\n## Part 10: Adjoint Sensitivity Analysis for Gradients of PDEs\n\n# Problem 5: Global Parameter Sensitivity and Optimality with GPU and Distributed Ensembles (B)\n\n## Part 1: Implementing the Henon-Heiles System (B)\n\n## (Optional) Part 2: Alternative Dynamical Implmentations of Henon-Heiles (B)\n\n## Part 3: Parallelized Ensemble Solving\n\n## Part 4: Parallelized GPU Ensemble Solving\n\n# Problem 6: Training Neural Stochastic Differential Equations with GPU acceleration (I)\n\n## Part 1: Constructing and Training a Basic Neural ODE\n\n## Part 2: GPU-accelerating the Neural ODE Process\n\n## Part 3: Defining and Training a Mixed Neural ODE\n\n## Part 4: Constructing a Basic Neural SDE\n\n## Part 5: Optimizing the training behavior with minibatching (E)"
      ],
      "metadata": {}
    }
  ],
  "nbformat_minor": 2,
  "metadata": {
    "language_info": {
      "file_extension": ".jl",
      "mimetype": "application/julia",
      "name": "julia",
      "version": "1.1.1"
    },
    "kernelspec": {
      "name": "julia-1.1",
      "display_name": "Julia 1.1.1",
      "language": "julia"
    }
  },
  "nbformat": 4
}
